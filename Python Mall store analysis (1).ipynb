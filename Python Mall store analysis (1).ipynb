{
 "cells": [
  {
   "cell_type": "markdown",
   "id": "c7ae2ce5",
   "metadata": {},
   "source": [
    "#### Problem Statement \n",
    "\n",
    "We are uncover products and geolocation that performs very well based on the profit generated."
   ]
  },
  {
   "cell_type": "markdown",
   "id": "97cda598",
   "metadata": {},
   "source": [
    "#### Import Packages and Dataset"
   ]
  },
  {
   "cell_type": "code",
   "execution_count": 2,
   "id": "acc8d43e",
   "metadata": {},
   "outputs": [],
   "source": [
    "import numpy as np\n",
    "import pandas as pd\n",
    "import matplotlib.pyplot as plt "
   ]
  },
  {
   "cell_type": "code",
   "execution_count": 3,
   "id": "2b71ea26",
   "metadata": {},
   "outputs": [],
   "source": [
    "df = pd.read_csv(r'C:\\Users\\user\\Downloads\\Practice dataset.csv')"
   ]
  },
  {
   "cell_type": "code",
   "execution_count": 4,
   "id": "127621e6",
   "metadata": {},
   "outputs": [
    {
     "data": {
      "text/html": [
       "<div>\n",
       "<style scoped>\n",
       "    .dataframe tbody tr th:only-of-type {\n",
       "        vertical-align: middle;\n",
       "    }\n",
       "\n",
       "    .dataframe tbody tr th {\n",
       "        vertical-align: top;\n",
       "    }\n",
       "\n",
       "    .dataframe thead th {\n",
       "        text-align: right;\n",
       "    }\n",
       "</style>\n",
       "<table border=\"1\" class=\"dataframe\">\n",
       "  <thead>\n",
       "    <tr style=\"text-align: right;\">\n",
       "      <th></th>\n",
       "      <th>Unnamed: 0</th>\n",
       "      <th>customer_id</th>\n",
       "      <th>date</th>\n",
       "      <th>product</th>\n",
       "      <th>geolocation</th>\n",
       "      <th>revenue</th>\n",
       "      <th>sales</th>\n",
       "      <th>discount</th>\n",
       "      <th>tax</th>\n",
       "      <th>cost_of_goods</th>\n",
       "    </tr>\n",
       "  </thead>\n",
       "  <tbody>\n",
       "    <tr>\n",
       "      <th>0</th>\n",
       "      <td>0</td>\n",
       "      <td>1</td>\n",
       "      <td>2020-10-17</td>\n",
       "      <td>Shirt</td>\n",
       "      <td>Los Anges</td>\n",
       "      <td>1290</td>\n",
       "      <td>16</td>\n",
       "      <td>0.070051</td>\n",
       "      <td>0.060433</td>\n",
       "      <td>516.00</td>\n",
       "    </tr>\n",
       "    <tr>\n",
       "      <th>1</th>\n",
       "      <td>1</td>\n",
       "      <td>2</td>\n",
       "      <td>2022-02-09</td>\n",
       "      <td>Bag</td>\n",
       "      <td>Montreal</td>\n",
       "      <td>4453</td>\n",
       "      <td>12</td>\n",
       "      <td>0.396331</td>\n",
       "      <td>0.087020</td>\n",
       "      <td>1781.20</td>\n",
       "    </tr>\n",
       "    <tr>\n",
       "      <th>2</th>\n",
       "      <td>2</td>\n",
       "      <td>3</td>\n",
       "      <td>2021-05-28</td>\n",
       "      <td>Compter</td>\n",
       "      <td>Los Anges</td>\n",
       "      <td>3933</td>\n",
       "      <td>87</td>\n",
       "      <td>0.354361</td>\n",
       "      <td>0.002370</td>\n",
       "      <td>2949.75</td>\n",
       "    </tr>\n",
       "    <tr>\n",
       "      <th>3</th>\n",
       "      <td>3</td>\n",
       "      <td>4</td>\n",
       "      <td>2020-12-18</td>\n",
       "      <td>Shirt</td>\n",
       "      <td>Seattle</td>\n",
       "      <td>6160</td>\n",
       "      <td>19</td>\n",
       "      <td>0.060434</td>\n",
       "      <td>0.068478</td>\n",
       "      <td>2464.00</td>\n",
       "    </tr>\n",
       "    <tr>\n",
       "      <th>4</th>\n",
       "      <td>4</td>\n",
       "      <td>5</td>\n",
       "      <td>2022-09-16</td>\n",
       "      <td>Dress</td>\n",
       "      <td>Seattle</td>\n",
       "      <td>7513</td>\n",
       "      <td>89</td>\n",
       "      <td>0.090327</td>\n",
       "      <td>0.013464</td>\n",
       "      <td>3756.50</td>\n",
       "    </tr>\n",
       "    <tr>\n",
       "      <th>...</th>\n",
       "      <td>...</td>\n",
       "      <td>...</td>\n",
       "      <td>...</td>\n",
       "      <td>...</td>\n",
       "      <td>...</td>\n",
       "      <td>...</td>\n",
       "      <td>...</td>\n",
       "      <td>...</td>\n",
       "      <td>...</td>\n",
       "      <td>...</td>\n",
       "    </tr>\n",
       "    <tr>\n",
       "      <th>995</th>\n",
       "      <td>995</td>\n",
       "      <td>996</td>\n",
       "      <td>2022-06-12</td>\n",
       "      <td>Hat</td>\n",
       "      <td>Los Anges</td>\n",
       "      <td>9857</td>\n",
       "      <td>4</td>\n",
       "      <td>0.009385</td>\n",
       "      <td>0.050736</td>\n",
       "      <td>2464.25</td>\n",
       "    </tr>\n",
       "    <tr>\n",
       "      <th>996</th>\n",
       "      <td>996</td>\n",
       "      <td>997</td>\n",
       "      <td>2022-08-20</td>\n",
       "      <td>Pants</td>\n",
       "      <td>New York</td>\n",
       "      <td>9121</td>\n",
       "      <td>6</td>\n",
       "      <td>0.190660</td>\n",
       "      <td>0.011654</td>\n",
       "      <td>3192.35</td>\n",
       "    </tr>\n",
       "    <tr>\n",
       "      <th>997</th>\n",
       "      <td>997</td>\n",
       "      <td>998</td>\n",
       "      <td>2021-03-09</td>\n",
       "      <td>Shoes</td>\n",
       "      <td>Los Anges</td>\n",
       "      <td>9321</td>\n",
       "      <td>99</td>\n",
       "      <td>0.299502</td>\n",
       "      <td>0.080569</td>\n",
       "      <td>5592.60</td>\n",
       "    </tr>\n",
       "    <tr>\n",
       "      <th>998</th>\n",
       "      <td>998</td>\n",
       "      <td>999</td>\n",
       "      <td>2021-06-13</td>\n",
       "      <td>Compter</td>\n",
       "      <td>Seattle</td>\n",
       "      <td>6379</td>\n",
       "      <td>98</td>\n",
       "      <td>0.180285</td>\n",
       "      <td>0.088348</td>\n",
       "      <td>4784.25</td>\n",
       "    </tr>\n",
       "    <tr>\n",
       "      <th>999</th>\n",
       "      <td>999</td>\n",
       "      <td>1000</td>\n",
       "      <td>2022-01-01</td>\n",
       "      <td>Compter</td>\n",
       "      <td>Dallas</td>\n",
       "      <td>9386</td>\n",
       "      <td>21</td>\n",
       "      <td>0.068297</td>\n",
       "      <td>0.061598</td>\n",
       "      <td>7039.50</td>\n",
       "    </tr>\n",
       "  </tbody>\n",
       "</table>\n",
       "<p>1000 rows × 10 columns</p>\n",
       "</div>"
      ],
      "text/plain": [
       "     Unnamed: 0  customer_id        date  product geolocation  revenue sales  \\\n",
       "0             0            1  2020-10-17    Shirt   Los Anges     1290    16   \n",
       "1             1            2  2022-02-09      Bag    Montreal     4453    12   \n",
       "2             2            3  2021-05-28  Compter   Los Anges     3933    87   \n",
       "3             3            4  2020-12-18    Shirt     Seattle     6160    19   \n",
       "4             4            5  2022-09-16    Dress     Seattle     7513    89   \n",
       "..          ...          ...         ...      ...         ...      ...   ...   \n",
       "995         995          996  2022-06-12      Hat   Los Anges     9857     4   \n",
       "996         996          997  2022-08-20    Pants    New York     9121     6   \n",
       "997         997          998  2021-03-09    Shoes   Los Anges     9321    99   \n",
       "998         998          999  2021-06-13  Compter     Seattle     6379    98   \n",
       "999         999         1000  2022-01-01  Compter      Dallas     9386    21   \n",
       "\n",
       "     discount       tax  cost_of_goods  \n",
       "0    0.070051  0.060433         516.00  \n",
       "1    0.396331  0.087020        1781.20  \n",
       "2    0.354361  0.002370        2949.75  \n",
       "3    0.060434  0.068478        2464.00  \n",
       "4    0.090327  0.013464        3756.50  \n",
       "..        ...       ...            ...  \n",
       "995  0.009385  0.050736        2464.25  \n",
       "996  0.190660  0.011654        3192.35  \n",
       "997  0.299502  0.080569        5592.60  \n",
       "998  0.180285  0.088348        4784.25  \n",
       "999  0.068297  0.061598        7039.50  \n",
       "\n",
       "[1000 rows x 10 columns]"
      ]
     },
     "execution_count": 4,
     "metadata": {},
     "output_type": "execute_result"
    }
   ],
   "source": [
    "df"
   ]
  },
  {
   "cell_type": "markdown",
   "id": "f9472a66",
   "metadata": {},
   "source": [
    "#### Data Assessment"
   ]
  },
  {
   "cell_type": "code",
   "execution_count": 5,
   "id": "0043b37e",
   "metadata": {},
   "outputs": [
    {
     "name": "stdout",
     "output_type": "stream",
     "text": [
      "We have 1000 rows and 10 columns\n"
     ]
    }
   ],
   "source": [
    "print(f'We have {df.shape[0]} rows and {df.shape[1]} columns')"
   ]
  },
  {
   "cell_type": "code",
   "execution_count": 6,
   "id": "8db51344",
   "metadata": {},
   "outputs": [
    {
     "data": {
      "text/plain": [
       "Index(['Unnamed: 0', 'customer_id', 'date', 'product', 'geolocation',\n",
       "       'revenue', 'sales', 'discount', 'tax', 'cost_of_goods'],\n",
       "      dtype='object')"
      ]
     },
     "execution_count": 6,
     "metadata": {},
     "output_type": "execute_result"
    }
   ],
   "source": [
    "df.columns"
   ]
  },
  {
   "cell_type": "code",
   "execution_count": 7,
   "id": "3517af9e",
   "metadata": {},
   "outputs": [
    {
     "data": {
      "text/html": [
       "<div>\n",
       "<style scoped>\n",
       "    .dataframe tbody tr th:only-of-type {\n",
       "        vertical-align: middle;\n",
       "    }\n",
       "\n",
       "    .dataframe tbody tr th {\n",
       "        vertical-align: top;\n",
       "    }\n",
       "\n",
       "    .dataframe thead th {\n",
       "        text-align: right;\n",
       "    }\n",
       "</style>\n",
       "<table border=\"1\" class=\"dataframe\">\n",
       "  <thead>\n",
       "    <tr style=\"text-align: right;\">\n",
       "      <th></th>\n",
       "      <th>Unnamed: 0</th>\n",
       "      <th>customer_id</th>\n",
       "      <th>date</th>\n",
       "      <th>product</th>\n",
       "      <th>geolocation</th>\n",
       "      <th>revenue</th>\n",
       "      <th>sales</th>\n",
       "      <th>discount</th>\n",
       "      <th>tax</th>\n",
       "      <th>cost_of_goods</th>\n",
       "    </tr>\n",
       "  </thead>\n",
       "  <tbody>\n",
       "    <tr>\n",
       "      <th>0</th>\n",
       "      <td>0</td>\n",
       "      <td>1</td>\n",
       "      <td>2020-10-17</td>\n",
       "      <td>Shirt</td>\n",
       "      <td>Los Anges</td>\n",
       "      <td>1290</td>\n",
       "      <td>16</td>\n",
       "      <td>0.070051</td>\n",
       "      <td>0.060433</td>\n",
       "      <td>516.00</td>\n",
       "    </tr>\n",
       "    <tr>\n",
       "      <th>1</th>\n",
       "      <td>1</td>\n",
       "      <td>2</td>\n",
       "      <td>2022-02-09</td>\n",
       "      <td>Bag</td>\n",
       "      <td>Montreal</td>\n",
       "      <td>4453</td>\n",
       "      <td>12</td>\n",
       "      <td>0.396331</td>\n",
       "      <td>0.087020</td>\n",
       "      <td>1781.20</td>\n",
       "    </tr>\n",
       "    <tr>\n",
       "      <th>2</th>\n",
       "      <td>2</td>\n",
       "      <td>3</td>\n",
       "      <td>2021-05-28</td>\n",
       "      <td>Compter</td>\n",
       "      <td>Los Anges</td>\n",
       "      <td>3933</td>\n",
       "      <td>87</td>\n",
       "      <td>0.354361</td>\n",
       "      <td>0.002370</td>\n",
       "      <td>2949.75</td>\n",
       "    </tr>\n",
       "    <tr>\n",
       "      <th>3</th>\n",
       "      <td>3</td>\n",
       "      <td>4</td>\n",
       "      <td>2020-12-18</td>\n",
       "      <td>Shirt</td>\n",
       "      <td>Seattle</td>\n",
       "      <td>6160</td>\n",
       "      <td>19</td>\n",
       "      <td>0.060434</td>\n",
       "      <td>0.068478</td>\n",
       "      <td>2464.00</td>\n",
       "    </tr>\n",
       "    <tr>\n",
       "      <th>4</th>\n",
       "      <td>4</td>\n",
       "      <td>5</td>\n",
       "      <td>2022-09-16</td>\n",
       "      <td>Dress</td>\n",
       "      <td>Seattle</td>\n",
       "      <td>7513</td>\n",
       "      <td>89</td>\n",
       "      <td>0.090327</td>\n",
       "      <td>0.013464</td>\n",
       "      <td>3756.50</td>\n",
       "    </tr>\n",
       "    <tr>\n",
       "      <th>5</th>\n",
       "      <td>5</td>\n",
       "      <td>6</td>\n",
       "      <td>2021-09-11</td>\n",
       "      <td>Bag</td>\n",
       "      <td>Vancouver</td>\n",
       "      <td>4577</td>\n",
       "      <td>63</td>\n",
       "      <td>0.401127</td>\n",
       "      <td>0.016438</td>\n",
       "      <td>1830.80</td>\n",
       "    </tr>\n",
       "    <tr>\n",
       "      <th>6</th>\n",
       "      <td>6</td>\n",
       "      <td>7</td>\n",
       "      <td>2022-01-15</td>\n",
       "      <td>Shirt</td>\n",
       "      <td>Dallas</td>\n",
       "      <td>1540</td>\n",
       "      <td>30</td>\n",
       "      <td>0.392296</td>\n",
       "      <td>0.071829</td>\n",
       "      <td>616.00</td>\n",
       "    </tr>\n",
       "    <tr>\n",
       "      <th>7</th>\n",
       "      <td>7</td>\n",
       "      <td>8</td>\n",
       "      <td>2022-02-18</td>\n",
       "      <td>Compter</td>\n",
       "      <td>Chicago</td>\n",
       "      <td>7506</td>\n",
       "      <td>81</td>\n",
       "      <td>0.222570</td>\n",
       "      <td>0.012009</td>\n",
       "      <td>5629.50</td>\n",
       "    </tr>\n",
       "    <tr>\n",
       "      <th>8</th>\n",
       "      <td>8</td>\n",
       "      <td>9</td>\n",
       "      <td>2022-07-14</td>\n",
       "      <td>Pants</td>\n",
       "      <td>Miami</td>\n",
       "      <td>3681</td>\n",
       "      <td>67</td>\n",
       "      <td>0.312795</td>\n",
       "      <td>0.069979</td>\n",
       "      <td>1288.35</td>\n",
       "    </tr>\n",
       "    <tr>\n",
       "      <th>9</th>\n",
       "      <td>9</td>\n",
       "      <td>10</td>\n",
       "      <td>2021-10-09</td>\n",
       "      <td>Laptop</td>\n",
       "      <td>New York</td>\n",
       "      <td>5014</td>\n",
       "      <td>34</td>\n",
       "      <td>0.396076</td>\n",
       "      <td>0.034665</td>\n",
       "      <td>3509.80</td>\n",
       "    </tr>\n",
       "  </tbody>\n",
       "</table>\n",
       "</div>"
      ],
      "text/plain": [
       "   Unnamed: 0  customer_id        date  product geolocation  revenue sales  \\\n",
       "0           0            1  2020-10-17    Shirt   Los Anges     1290    16   \n",
       "1           1            2  2022-02-09      Bag    Montreal     4453    12   \n",
       "2           2            3  2021-05-28  Compter   Los Anges     3933    87   \n",
       "3           3            4  2020-12-18    Shirt     Seattle     6160    19   \n",
       "4           4            5  2022-09-16    Dress     Seattle     7513    89   \n",
       "5           5            6  2021-09-11      Bag   Vancouver     4577    63   \n",
       "6           6            7  2022-01-15    Shirt      Dallas     1540    30   \n",
       "7           7            8  2022-02-18  Compter     Chicago     7506    81   \n",
       "8           8            9  2022-07-14    Pants       Miami     3681    67   \n",
       "9           9           10  2021-10-09   Laptop    New York     5014    34   \n",
       "\n",
       "   discount       tax  cost_of_goods  \n",
       "0  0.070051  0.060433         516.00  \n",
       "1  0.396331  0.087020        1781.20  \n",
       "2  0.354361  0.002370        2949.75  \n",
       "3  0.060434  0.068478        2464.00  \n",
       "4  0.090327  0.013464        3756.50  \n",
       "5  0.401127  0.016438        1830.80  \n",
       "6  0.392296  0.071829         616.00  \n",
       "7  0.222570  0.012009        5629.50  \n",
       "8  0.312795  0.069979        1288.35  \n",
       "9  0.396076  0.034665        3509.80  "
      ]
     },
     "execution_count": 7,
     "metadata": {},
     "output_type": "execute_result"
    }
   ],
   "source": [
    "df.head(10)"
   ]
  },
  {
   "cell_type": "code",
   "execution_count": 8,
   "id": "9daad6c3",
   "metadata": {},
   "outputs": [
    {
     "data": {
      "text/html": [
       "<div>\n",
       "<style scoped>\n",
       "    .dataframe tbody tr th:only-of-type {\n",
       "        vertical-align: middle;\n",
       "    }\n",
       "\n",
       "    .dataframe tbody tr th {\n",
       "        vertical-align: top;\n",
       "    }\n",
       "\n",
       "    .dataframe thead th {\n",
       "        text-align: right;\n",
       "    }\n",
       "</style>\n",
       "<table border=\"1\" class=\"dataframe\">\n",
       "  <thead>\n",
       "    <tr style=\"text-align: right;\">\n",
       "      <th></th>\n",
       "      <th>Unnamed: 0</th>\n",
       "      <th>customer_id</th>\n",
       "      <th>date</th>\n",
       "      <th>product</th>\n",
       "      <th>geolocation</th>\n",
       "      <th>revenue</th>\n",
       "      <th>sales</th>\n",
       "      <th>discount</th>\n",
       "      <th>tax</th>\n",
       "      <th>cost_of_goods</th>\n",
       "    </tr>\n",
       "  </thead>\n",
       "  <tbody>\n",
       "    <tr>\n",
       "      <th>990</th>\n",
       "      <td>990</td>\n",
       "      <td>991</td>\n",
       "      <td>2021-08-01</td>\n",
       "      <td>T-shirt</td>\n",
       "      <td>New York</td>\n",
       "      <td>2707</td>\n",
       "      <td>35</td>\n",
       "      <td>0.297475</td>\n",
       "      <td>0.022902</td>\n",
       "      <td>812.10</td>\n",
       "    </tr>\n",
       "    <tr>\n",
       "      <th>991</th>\n",
       "      <td>991</td>\n",
       "      <td>992</td>\n",
       "      <td>2020-02-04</td>\n",
       "      <td>T-shirt</td>\n",
       "      <td>Toronto</td>\n",
       "      <td>7706</td>\n",
       "      <td>16</td>\n",
       "      <td>0.487203</td>\n",
       "      <td>0.050435</td>\n",
       "      <td>2311.80</td>\n",
       "    </tr>\n",
       "    <tr>\n",
       "      <th>992</th>\n",
       "      <td>992</td>\n",
       "      <td>993</td>\n",
       "      <td>2022-03-19</td>\n",
       "      <td>T-shirt</td>\n",
       "      <td>Miami</td>\n",
       "      <td>2054</td>\n",
       "      <td>10</td>\n",
       "      <td>0.066101</td>\n",
       "      <td>0.006669</td>\n",
       "      <td>616.20</td>\n",
       "    </tr>\n",
       "    <tr>\n",
       "      <th>993</th>\n",
       "      <td>993</td>\n",
       "      <td>994</td>\n",
       "      <td>2021-07-08</td>\n",
       "      <td>Hat</td>\n",
       "      <td>Montreal</td>\n",
       "      <td>5412</td>\n",
       "      <td>88</td>\n",
       "      <td>0.034874</td>\n",
       "      <td>0.001659</td>\n",
       "      <td>1353.00</td>\n",
       "    </tr>\n",
       "    <tr>\n",
       "      <th>994</th>\n",
       "      <td>994</td>\n",
       "      <td>995</td>\n",
       "      <td>2020-11-16</td>\n",
       "      <td>Shirt</td>\n",
       "      <td>Miami</td>\n",
       "      <td>2076</td>\n",
       "      <td>72</td>\n",
       "      <td>0.202135</td>\n",
       "      <td>0.047274</td>\n",
       "      <td>830.40</td>\n",
       "    </tr>\n",
       "    <tr>\n",
       "      <th>995</th>\n",
       "      <td>995</td>\n",
       "      <td>996</td>\n",
       "      <td>2022-06-12</td>\n",
       "      <td>Hat</td>\n",
       "      <td>Los Anges</td>\n",
       "      <td>9857</td>\n",
       "      <td>4</td>\n",
       "      <td>0.009385</td>\n",
       "      <td>0.050736</td>\n",
       "      <td>2464.25</td>\n",
       "    </tr>\n",
       "    <tr>\n",
       "      <th>996</th>\n",
       "      <td>996</td>\n",
       "      <td>997</td>\n",
       "      <td>2022-08-20</td>\n",
       "      <td>Pants</td>\n",
       "      <td>New York</td>\n",
       "      <td>9121</td>\n",
       "      <td>6</td>\n",
       "      <td>0.190660</td>\n",
       "      <td>0.011654</td>\n",
       "      <td>3192.35</td>\n",
       "    </tr>\n",
       "    <tr>\n",
       "      <th>997</th>\n",
       "      <td>997</td>\n",
       "      <td>998</td>\n",
       "      <td>2021-03-09</td>\n",
       "      <td>Shoes</td>\n",
       "      <td>Los Anges</td>\n",
       "      <td>9321</td>\n",
       "      <td>99</td>\n",
       "      <td>0.299502</td>\n",
       "      <td>0.080569</td>\n",
       "      <td>5592.60</td>\n",
       "    </tr>\n",
       "    <tr>\n",
       "      <th>998</th>\n",
       "      <td>998</td>\n",
       "      <td>999</td>\n",
       "      <td>2021-06-13</td>\n",
       "      <td>Compter</td>\n",
       "      <td>Seattle</td>\n",
       "      <td>6379</td>\n",
       "      <td>98</td>\n",
       "      <td>0.180285</td>\n",
       "      <td>0.088348</td>\n",
       "      <td>4784.25</td>\n",
       "    </tr>\n",
       "    <tr>\n",
       "      <th>999</th>\n",
       "      <td>999</td>\n",
       "      <td>1000</td>\n",
       "      <td>2022-01-01</td>\n",
       "      <td>Compter</td>\n",
       "      <td>Dallas</td>\n",
       "      <td>9386</td>\n",
       "      <td>21</td>\n",
       "      <td>0.068297</td>\n",
       "      <td>0.061598</td>\n",
       "      <td>7039.50</td>\n",
       "    </tr>\n",
       "  </tbody>\n",
       "</table>\n",
       "</div>"
      ],
      "text/plain": [
       "     Unnamed: 0  customer_id        date  product geolocation  revenue sales  \\\n",
       "990         990          991  2021-08-01  T-shirt    New York     2707    35   \n",
       "991         991          992  2020-02-04  T-shirt     Toronto     7706    16   \n",
       "992         992          993  2022-03-19  T-shirt       Miami     2054    10   \n",
       "993         993          994  2021-07-08      Hat    Montreal     5412    88   \n",
       "994         994          995  2020-11-16    Shirt       Miami     2076    72   \n",
       "995         995          996  2022-06-12      Hat   Los Anges     9857     4   \n",
       "996         996          997  2022-08-20    Pants    New York     9121     6   \n",
       "997         997          998  2021-03-09    Shoes   Los Anges     9321    99   \n",
       "998         998          999  2021-06-13  Compter     Seattle     6379    98   \n",
       "999         999         1000  2022-01-01  Compter      Dallas     9386    21   \n",
       "\n",
       "     discount       tax  cost_of_goods  \n",
       "990  0.297475  0.022902         812.10  \n",
       "991  0.487203  0.050435        2311.80  \n",
       "992  0.066101  0.006669         616.20  \n",
       "993  0.034874  0.001659        1353.00  \n",
       "994  0.202135  0.047274         830.40  \n",
       "995  0.009385  0.050736        2464.25  \n",
       "996  0.190660  0.011654        3192.35  \n",
       "997  0.299502  0.080569        5592.60  \n",
       "998  0.180285  0.088348        4784.25  \n",
       "999  0.068297  0.061598        7039.50  "
      ]
     },
     "execution_count": 8,
     "metadata": {},
     "output_type": "execute_result"
    }
   ],
   "source": [
    "df.tail(10)"
   ]
  },
  {
   "cell_type": "code",
   "execution_count": 9,
   "id": "c7797850",
   "metadata": {},
   "outputs": [
    {
     "data": {
      "text/html": [
       "<div>\n",
       "<style scoped>\n",
       "    .dataframe tbody tr th:only-of-type {\n",
       "        vertical-align: middle;\n",
       "    }\n",
       "\n",
       "    .dataframe tbody tr th {\n",
       "        vertical-align: top;\n",
       "    }\n",
       "\n",
       "    .dataframe thead th {\n",
       "        text-align: right;\n",
       "    }\n",
       "</style>\n",
       "<table border=\"1\" class=\"dataframe\">\n",
       "  <thead>\n",
       "    <tr style=\"text-align: right;\">\n",
       "      <th></th>\n",
       "      <th>Unnamed: 0</th>\n",
       "      <th>customer_id</th>\n",
       "      <th>date</th>\n",
       "      <th>product</th>\n",
       "      <th>geolocation</th>\n",
       "      <th>revenue</th>\n",
       "      <th>sales</th>\n",
       "      <th>discount</th>\n",
       "      <th>tax</th>\n",
       "      <th>cost_of_goods</th>\n",
       "    </tr>\n",
       "  </thead>\n",
       "  <tbody>\n",
       "    <tr>\n",
       "      <th>910</th>\n",
       "      <td>910</td>\n",
       "      <td>911</td>\n",
       "      <td>2022-01-14</td>\n",
       "      <td>Shoes</td>\n",
       "      <td>Dallas</td>\n",
       "      <td>571</td>\n",
       "      <td>44</td>\n",
       "      <td>0.048241</td>\n",
       "      <td>0.036164</td>\n",
       "      <td>342.60</td>\n",
       "    </tr>\n",
       "    <tr>\n",
       "      <th>760</th>\n",
       "      <td>760</td>\n",
       "      <td>761</td>\n",
       "      <td>2020-01-21</td>\n",
       "      <td>Hat</td>\n",
       "      <td>Toronto</td>\n",
       "      <td>768</td>\n",
       "      <td>17</td>\n",
       "      <td>0.455313</td>\n",
       "      <td>0.054299</td>\n",
       "      <td>192.00</td>\n",
       "    </tr>\n",
       "    <tr>\n",
       "      <th>510</th>\n",
       "      <td>510</td>\n",
       "      <td>511</td>\n",
       "      <td>2020-09-01</td>\n",
       "      <td>T-shirt</td>\n",
       "      <td>Dallas</td>\n",
       "      <td>7486</td>\n",
       "      <td>55</td>\n",
       "      <td>0.053476</td>\n",
       "      <td>0.076035</td>\n",
       "      <td>2245.80</td>\n",
       "    </tr>\n",
       "    <tr>\n",
       "      <th>53</th>\n",
       "      <td>53</td>\n",
       "      <td>54</td>\n",
       "      <td>2022-11-22</td>\n",
       "      <td>Compter</td>\n",
       "      <td>Seattle</td>\n",
       "      <td>3647</td>\n",
       "      <td>38</td>\n",
       "      <td>0.337361</td>\n",
       "      <td>0.049844</td>\n",
       "      <td>2735.25</td>\n",
       "    </tr>\n",
       "    <tr>\n",
       "      <th>166</th>\n",
       "      <td>166</td>\n",
       "      <td>167</td>\n",
       "      <td>2020-11-24</td>\n",
       "      <td>Shirt</td>\n",
       "      <td>Vancouver</td>\n",
       "      <td>9592</td>\n",
       "      <td>56</td>\n",
       "      <td>0.024509</td>\n",
       "      <td>0.051154</td>\n",
       "      <td>3836.80</td>\n",
       "    </tr>\n",
       "    <tr>\n",
       "      <th>405</th>\n",
       "      <td>405</td>\n",
       "      <td>406</td>\n",
       "      <td>2020-12-05</td>\n",
       "      <td>Phone</td>\n",
       "      <td>San Franchiso</td>\n",
       "      <td>562</td>\n",
       "      <td>77</td>\n",
       "      <td>0.086081</td>\n",
       "      <td>0.036764</td>\n",
       "      <td>449.60</td>\n",
       "    </tr>\n",
       "    <tr>\n",
       "      <th>843</th>\n",
       "      <td>843</td>\n",
       "      <td>844</td>\n",
       "      <td>2021-11-01</td>\n",
       "      <td>T-shirt</td>\n",
       "      <td>Vancouver</td>\n",
       "      <td>389</td>\n",
       "      <td>65</td>\n",
       "      <td>0.368602</td>\n",
       "      <td>0.064702</td>\n",
       "      <td>116.70</td>\n",
       "    </tr>\n",
       "    <tr>\n",
       "      <th>3</th>\n",
       "      <td>3</td>\n",
       "      <td>4</td>\n",
       "      <td>2020-12-18</td>\n",
       "      <td>Shirt</td>\n",
       "      <td>Seattle</td>\n",
       "      <td>6160</td>\n",
       "      <td>19</td>\n",
       "      <td>0.060434</td>\n",
       "      <td>0.068478</td>\n",
       "      <td>2464.00</td>\n",
       "    </tr>\n",
       "    <tr>\n",
       "      <th>702</th>\n",
       "      <td>702</td>\n",
       "      <td>703</td>\n",
       "      <td>2021-03-17</td>\n",
       "      <td>Dress</td>\n",
       "      <td>Los Anges</td>\n",
       "      <td>4980</td>\n",
       "      <td>58</td>\n",
       "      <td>0.296660</td>\n",
       "      <td>0.035200</td>\n",
       "      <td>2490.00</td>\n",
       "    </tr>\n",
       "    <tr>\n",
       "      <th>466</th>\n",
       "      <td>466</td>\n",
       "      <td>467</td>\n",
       "      <td>2021-08-13</td>\n",
       "      <td>Shoes</td>\n",
       "      <td>San Franchiso</td>\n",
       "      <td>9045</td>\n",
       "      <td>36</td>\n",
       "      <td>0.245468</td>\n",
       "      <td>0.026562</td>\n",
       "      <td>5427.00</td>\n",
       "    </tr>\n",
       "  </tbody>\n",
       "</table>\n",
       "</div>"
      ],
      "text/plain": [
       "     Unnamed: 0  customer_id        date  product    geolocation  revenue  \\\n",
       "910         910          911  2022-01-14    Shoes         Dallas      571   \n",
       "760         760          761  2020-01-21      Hat        Toronto      768   \n",
       "510         510          511  2020-09-01  T-shirt         Dallas     7486   \n",
       "53           53           54  2022-11-22  Compter        Seattle     3647   \n",
       "166         166          167  2020-11-24    Shirt      Vancouver     9592   \n",
       "405         405          406  2020-12-05    Phone  San Franchiso      562   \n",
       "843         843          844  2021-11-01  T-shirt      Vancouver      389   \n",
       "3             3            4  2020-12-18    Shirt        Seattle     6160   \n",
       "702         702          703  2021-03-17    Dress      Los Anges     4980   \n",
       "466         466          467  2021-08-13    Shoes  San Franchiso     9045   \n",
       "\n",
       "    sales  discount       tax  cost_of_goods  \n",
       "910    44  0.048241  0.036164         342.60  \n",
       "760    17  0.455313  0.054299         192.00  \n",
       "510    55  0.053476  0.076035        2245.80  \n",
       "53     38  0.337361  0.049844        2735.25  \n",
       "166    56  0.024509  0.051154        3836.80  \n",
       "405    77  0.086081  0.036764         449.60  \n",
       "843    65  0.368602  0.064702         116.70  \n",
       "3      19  0.060434  0.068478        2464.00  \n",
       "702    58  0.296660  0.035200        2490.00  \n",
       "466    36  0.245468  0.026562        5427.00  "
      ]
     },
     "execution_count": 9,
     "metadata": {},
     "output_type": "execute_result"
    }
   ],
   "source": [
    "df.sample(10)"
   ]
  },
  {
   "cell_type": "code",
   "execution_count": 10,
   "id": "887aef31",
   "metadata": {},
   "outputs": [],
   "source": [
    "df.drop('Unnamed: 0', axis = 1, inplace = True)"
   ]
  },
  {
   "cell_type": "code",
   "execution_count": 11,
   "id": "551b2c5e",
   "metadata": {},
   "outputs": [
    {
     "data": {
      "text/html": [
       "<div>\n",
       "<style scoped>\n",
       "    .dataframe tbody tr th:only-of-type {\n",
       "        vertical-align: middle;\n",
       "    }\n",
       "\n",
       "    .dataframe tbody tr th {\n",
       "        vertical-align: top;\n",
       "    }\n",
       "\n",
       "    .dataframe thead th {\n",
       "        text-align: right;\n",
       "    }\n",
       "</style>\n",
       "<table border=\"1\" class=\"dataframe\">\n",
       "  <thead>\n",
       "    <tr style=\"text-align: right;\">\n",
       "      <th></th>\n",
       "      <th>customer_id</th>\n",
       "      <th>date</th>\n",
       "      <th>product</th>\n",
       "      <th>geolocation</th>\n",
       "      <th>revenue</th>\n",
       "      <th>sales</th>\n",
       "      <th>discount</th>\n",
       "      <th>tax</th>\n",
       "      <th>cost_of_goods</th>\n",
       "    </tr>\n",
       "  </thead>\n",
       "  <tbody>\n",
       "    <tr>\n",
       "      <th>0</th>\n",
       "      <td>1</td>\n",
       "      <td>2020-10-17</td>\n",
       "      <td>Shirt</td>\n",
       "      <td>Los Anges</td>\n",
       "      <td>1290</td>\n",
       "      <td>16</td>\n",
       "      <td>0.070051</td>\n",
       "      <td>0.060433</td>\n",
       "      <td>516.00</td>\n",
       "    </tr>\n",
       "    <tr>\n",
       "      <th>1</th>\n",
       "      <td>2</td>\n",
       "      <td>2022-02-09</td>\n",
       "      <td>Bag</td>\n",
       "      <td>Montreal</td>\n",
       "      <td>4453</td>\n",
       "      <td>12</td>\n",
       "      <td>0.396331</td>\n",
       "      <td>0.087020</td>\n",
       "      <td>1781.20</td>\n",
       "    </tr>\n",
       "    <tr>\n",
       "      <th>2</th>\n",
       "      <td>3</td>\n",
       "      <td>2021-05-28</td>\n",
       "      <td>Compter</td>\n",
       "      <td>Los Anges</td>\n",
       "      <td>3933</td>\n",
       "      <td>87</td>\n",
       "      <td>0.354361</td>\n",
       "      <td>0.002370</td>\n",
       "      <td>2949.75</td>\n",
       "    </tr>\n",
       "    <tr>\n",
       "      <th>3</th>\n",
       "      <td>4</td>\n",
       "      <td>2020-12-18</td>\n",
       "      <td>Shirt</td>\n",
       "      <td>Seattle</td>\n",
       "      <td>6160</td>\n",
       "      <td>19</td>\n",
       "      <td>0.060434</td>\n",
       "      <td>0.068478</td>\n",
       "      <td>2464.00</td>\n",
       "    </tr>\n",
       "    <tr>\n",
       "      <th>4</th>\n",
       "      <td>5</td>\n",
       "      <td>2022-09-16</td>\n",
       "      <td>Dress</td>\n",
       "      <td>Seattle</td>\n",
       "      <td>7513</td>\n",
       "      <td>89</td>\n",
       "      <td>0.090327</td>\n",
       "      <td>0.013464</td>\n",
       "      <td>3756.50</td>\n",
       "    </tr>\n",
       "    <tr>\n",
       "      <th>...</th>\n",
       "      <td>...</td>\n",
       "      <td>...</td>\n",
       "      <td>...</td>\n",
       "      <td>...</td>\n",
       "      <td>...</td>\n",
       "      <td>...</td>\n",
       "      <td>...</td>\n",
       "      <td>...</td>\n",
       "      <td>...</td>\n",
       "    </tr>\n",
       "    <tr>\n",
       "      <th>995</th>\n",
       "      <td>996</td>\n",
       "      <td>2022-06-12</td>\n",
       "      <td>Hat</td>\n",
       "      <td>Los Anges</td>\n",
       "      <td>9857</td>\n",
       "      <td>4</td>\n",
       "      <td>0.009385</td>\n",
       "      <td>0.050736</td>\n",
       "      <td>2464.25</td>\n",
       "    </tr>\n",
       "    <tr>\n",
       "      <th>996</th>\n",
       "      <td>997</td>\n",
       "      <td>2022-08-20</td>\n",
       "      <td>Pants</td>\n",
       "      <td>New York</td>\n",
       "      <td>9121</td>\n",
       "      <td>6</td>\n",
       "      <td>0.190660</td>\n",
       "      <td>0.011654</td>\n",
       "      <td>3192.35</td>\n",
       "    </tr>\n",
       "    <tr>\n",
       "      <th>997</th>\n",
       "      <td>998</td>\n",
       "      <td>2021-03-09</td>\n",
       "      <td>Shoes</td>\n",
       "      <td>Los Anges</td>\n",
       "      <td>9321</td>\n",
       "      <td>99</td>\n",
       "      <td>0.299502</td>\n",
       "      <td>0.080569</td>\n",
       "      <td>5592.60</td>\n",
       "    </tr>\n",
       "    <tr>\n",
       "      <th>998</th>\n",
       "      <td>999</td>\n",
       "      <td>2021-06-13</td>\n",
       "      <td>Compter</td>\n",
       "      <td>Seattle</td>\n",
       "      <td>6379</td>\n",
       "      <td>98</td>\n",
       "      <td>0.180285</td>\n",
       "      <td>0.088348</td>\n",
       "      <td>4784.25</td>\n",
       "    </tr>\n",
       "    <tr>\n",
       "      <th>999</th>\n",
       "      <td>1000</td>\n",
       "      <td>2022-01-01</td>\n",
       "      <td>Compter</td>\n",
       "      <td>Dallas</td>\n",
       "      <td>9386</td>\n",
       "      <td>21</td>\n",
       "      <td>0.068297</td>\n",
       "      <td>0.061598</td>\n",
       "      <td>7039.50</td>\n",
       "    </tr>\n",
       "  </tbody>\n",
       "</table>\n",
       "<p>1000 rows × 9 columns</p>\n",
       "</div>"
      ],
      "text/plain": [
       "     customer_id        date  product geolocation  revenue sales  discount  \\\n",
       "0              1  2020-10-17    Shirt   Los Anges     1290    16  0.070051   \n",
       "1              2  2022-02-09      Bag    Montreal     4453    12  0.396331   \n",
       "2              3  2021-05-28  Compter   Los Anges     3933    87  0.354361   \n",
       "3              4  2020-12-18    Shirt     Seattle     6160    19  0.060434   \n",
       "4              5  2022-09-16    Dress     Seattle     7513    89  0.090327   \n",
       "..           ...         ...      ...         ...      ...   ...       ...   \n",
       "995          996  2022-06-12      Hat   Los Anges     9857     4  0.009385   \n",
       "996          997  2022-08-20    Pants    New York     9121     6  0.190660   \n",
       "997          998  2021-03-09    Shoes   Los Anges     9321    99  0.299502   \n",
       "998          999  2021-06-13  Compter     Seattle     6379    98  0.180285   \n",
       "999         1000  2022-01-01  Compter      Dallas     9386    21  0.068297   \n",
       "\n",
       "          tax  cost_of_goods  \n",
       "0    0.060433         516.00  \n",
       "1    0.087020        1781.20  \n",
       "2    0.002370        2949.75  \n",
       "3    0.068478        2464.00  \n",
       "4    0.013464        3756.50  \n",
       "..        ...            ...  \n",
       "995  0.050736        2464.25  \n",
       "996  0.011654        3192.35  \n",
       "997  0.080569        5592.60  \n",
       "998  0.088348        4784.25  \n",
       "999  0.061598        7039.50  \n",
       "\n",
       "[1000 rows x 9 columns]"
      ]
     },
     "execution_count": 11,
     "metadata": {},
     "output_type": "execute_result"
    }
   ],
   "source": [
    "df"
   ]
  },
  {
   "cell_type": "code",
   "execution_count": 12,
   "id": "818a161e",
   "metadata": {},
   "outputs": [
    {
     "name": "stdout",
     "output_type": "stream",
     "text": [
      "<class 'pandas.core.frame.DataFrame'>\n",
      "RangeIndex: 1000 entries, 0 to 999\n",
      "Data columns (total 9 columns):\n",
      " #   Column         Non-Null Count  Dtype  \n",
      "---  ------         --------------  -----  \n",
      " 0   customer_id    1000 non-null   int64  \n",
      " 1   date           1000 non-null   object \n",
      " 2   product        980 non-null    object \n",
      " 3   geolocation    994 non-null    object \n",
      " 4   revenue        1000 non-null   int64  \n",
      " 5   sales          950 non-null    object \n",
      " 6   discount       1000 non-null   float64\n",
      " 7   tax            1000 non-null   float64\n",
      " 8   cost_of_goods  1000 non-null   float64\n",
      "dtypes: float64(3), int64(2), object(4)\n",
      "memory usage: 70.4+ KB\n"
     ]
    }
   ],
   "source": [
    "df.info()"
   ]
  },
  {
   "cell_type": "code",
   "execution_count": 13,
   "id": "3fd77001",
   "metadata": {},
   "outputs": [
    {
     "data": {
      "text/plain": [
       "customer_id       0\n",
       "date              0\n",
       "product          20\n",
       "geolocation       6\n",
       "revenue           0\n",
       "sales            50\n",
       "discount          0\n",
       "tax               0\n",
       "cost_of_goods     0\n",
       "dtype: int64"
      ]
     },
     "execution_count": 13,
     "metadata": {},
     "output_type": "execute_result"
    }
   ],
   "source": [
    "df.isnull().sum()"
   ]
  },
  {
   "cell_type": "code",
   "execution_count": 14,
   "id": "79bba276",
   "metadata": {},
   "outputs": [
    {
     "data": {
      "text/plain": [
       "0"
      ]
     },
     "execution_count": 14,
     "metadata": {},
     "output_type": "execute_result"
    }
   ],
   "source": [
    "df.duplicated().sum()"
   ]
  },
  {
   "cell_type": "code",
   "execution_count": 16,
   "id": "9481f52d",
   "metadata": {},
   "outputs": [],
   "source": [
    "df.drop_duplicates(inplace = True)"
   ]
  },
  {
   "cell_type": "code",
   "execution_count": 17,
   "id": "10dee65a",
   "metadata": {},
   "outputs": [
    {
     "data": {
      "text/plain": [
       "customer_id        int64\n",
       "date              object\n",
       "product           object\n",
       "geolocation       object\n",
       "revenue            int64\n",
       "sales             object\n",
       "discount         float64\n",
       "tax              float64\n",
       "cost_of_goods    float64\n",
       "dtype: object"
      ]
     },
     "execution_count": 17,
     "metadata": {},
     "output_type": "execute_result"
    }
   ],
   "source": [
    "df.dtypes\n",
    "# date column have incorrect datatype\n",
    "# Sales column have incorrect dtype"
   ]
  },
  {
   "cell_type": "code",
   "execution_count": 18,
   "id": "44928def",
   "metadata": {},
   "outputs": [
    {
     "data": {
      "text/plain": [
       "Index(['Pants', 'Shirt', 'Phone', 'T-shirt', 'Compter', 'Dress', 'Laptop',\n",
       "       'Shoes', 'Bag', 'Hat'],\n",
       "      dtype='object', name='product')"
      ]
     },
     "execution_count": 18,
     "metadata": {},
     "output_type": "execute_result"
    }
   ],
   "source": [
    "df['product'].value_counts().index\n",
    "# replace compter with Computer "
   ]
  },
  {
   "cell_type": "code",
   "execution_count": 19,
   "id": "fb269787",
   "metadata": {},
   "outputs": [
    {
     "data": {
      "text/plain": [
       "Index(['Dallas', 'New York', 'Vancouver', 'Chicago', 'Montreal', 'Los Anges',\n",
       "       'Seattle', 'San Franchiso', 'Toronto', 'Miami'],\n",
       "      dtype='object', name='geolocation')"
      ]
     },
     "execution_count": 19,
     "metadata": {},
     "output_type": "execute_result"
    }
   ],
   "source": [
    "df['geolocation'].value_counts().index\n",
    "# replace Los Anges with Los Angeles\n",
    "# replace San Franchiso with San Francisco "
   ]
  },
  {
   "cell_type": "markdown",
   "id": "bf96787d",
   "metadata": {},
   "source": [
    "#### Data Cleaning \n"
   ]
  },
  {
   "cell_type": "code",
   "execution_count": 20,
   "id": "42aeb455",
   "metadata": {},
   "outputs": [],
   "source": [
    "#df['product'].value_counts()\n",
    "df['product'].fillna('unknown', inplace = True)"
   ]
  },
  {
   "cell_type": "code",
   "execution_count": 21,
   "id": "7f21692b",
   "metadata": {},
   "outputs": [
    {
     "data": {
      "text/plain": [
       "product\n",
       "Pants      124\n",
       "Shirt      108\n",
       "Phone      101\n",
       "T-shirt    100\n",
       "Compter     94\n",
       "Dress       93\n",
       "Laptop      93\n",
       "Shoes       93\n",
       "Bag         88\n",
       "Hat         86\n",
       "unknown     20\n",
       "Name: count, dtype: int64"
      ]
     },
     "execution_count": 21,
     "metadata": {},
     "output_type": "execute_result"
    }
   ],
   "source": [
    "df['product'].value_counts()"
   ]
  },
  {
   "cell_type": "code",
   "execution_count": 22,
   "id": "f47c558c",
   "metadata": {},
   "outputs": [
    {
     "data": {
      "text/plain": [
       "0    Pants\n",
       "Name: product, dtype: object"
      ]
     },
     "execution_count": 22,
     "metadata": {},
     "output_type": "execute_result"
    }
   ],
   "source": [
    "df['product'].mode()"
   ]
  },
  {
   "cell_type": "code",
   "execution_count": 23,
   "id": "8ea85bce",
   "metadata": {},
   "outputs": [
    {
     "data": {
      "text/html": [
       "<div>\n",
       "<style scoped>\n",
       "    .dataframe tbody tr th:only-of-type {\n",
       "        vertical-align: middle;\n",
       "    }\n",
       "\n",
       "    .dataframe tbody tr th {\n",
       "        vertical-align: top;\n",
       "    }\n",
       "\n",
       "    .dataframe thead th {\n",
       "        text-align: right;\n",
       "    }\n",
       "</style>\n",
       "<table border=\"1\" class=\"dataframe\">\n",
       "  <thead>\n",
       "    <tr style=\"text-align: right;\">\n",
       "      <th></th>\n",
       "      <th>customer_id</th>\n",
       "      <th>date</th>\n",
       "      <th>product</th>\n",
       "      <th>geolocation</th>\n",
       "      <th>revenue</th>\n",
       "      <th>sales</th>\n",
       "      <th>discount</th>\n",
       "      <th>tax</th>\n",
       "      <th>cost_of_goods</th>\n",
       "    </tr>\n",
       "  </thead>\n",
       "  <tbody>\n",
       "    <tr>\n",
       "      <th>0</th>\n",
       "      <td>1</td>\n",
       "      <td>2020-10-17</td>\n",
       "      <td>Shirt</td>\n",
       "      <td>Los Anges</td>\n",
       "      <td>1290</td>\n",
       "      <td>16</td>\n",
       "      <td>0.070051</td>\n",
       "      <td>0.060433</td>\n",
       "      <td>516.00</td>\n",
       "    </tr>\n",
       "    <tr>\n",
       "      <th>1</th>\n",
       "      <td>2</td>\n",
       "      <td>2022-02-09</td>\n",
       "      <td>Bag</td>\n",
       "      <td>Montreal</td>\n",
       "      <td>4453</td>\n",
       "      <td>12</td>\n",
       "      <td>0.396331</td>\n",
       "      <td>0.087020</td>\n",
       "      <td>1781.20</td>\n",
       "    </tr>\n",
       "    <tr>\n",
       "      <th>2</th>\n",
       "      <td>3</td>\n",
       "      <td>2021-05-28</td>\n",
       "      <td>Compter</td>\n",
       "      <td>Los Anges</td>\n",
       "      <td>3933</td>\n",
       "      <td>87</td>\n",
       "      <td>0.354361</td>\n",
       "      <td>0.002370</td>\n",
       "      <td>2949.75</td>\n",
       "    </tr>\n",
       "    <tr>\n",
       "      <th>3</th>\n",
       "      <td>4</td>\n",
       "      <td>2020-12-18</td>\n",
       "      <td>Shirt</td>\n",
       "      <td>Seattle</td>\n",
       "      <td>6160</td>\n",
       "      <td>19</td>\n",
       "      <td>0.060434</td>\n",
       "      <td>0.068478</td>\n",
       "      <td>2464.00</td>\n",
       "    </tr>\n",
       "    <tr>\n",
       "      <th>4</th>\n",
       "      <td>5</td>\n",
       "      <td>2022-09-16</td>\n",
       "      <td>Dress</td>\n",
       "      <td>Seattle</td>\n",
       "      <td>7513</td>\n",
       "      <td>89</td>\n",
       "      <td>0.090327</td>\n",
       "      <td>0.013464</td>\n",
       "      <td>3756.50</td>\n",
       "    </tr>\n",
       "    <tr>\n",
       "      <th>...</th>\n",
       "      <td>...</td>\n",
       "      <td>...</td>\n",
       "      <td>...</td>\n",
       "      <td>...</td>\n",
       "      <td>...</td>\n",
       "      <td>...</td>\n",
       "      <td>...</td>\n",
       "      <td>...</td>\n",
       "      <td>...</td>\n",
       "    </tr>\n",
       "    <tr>\n",
       "      <th>995</th>\n",
       "      <td>996</td>\n",
       "      <td>2022-06-12</td>\n",
       "      <td>Hat</td>\n",
       "      <td>Los Anges</td>\n",
       "      <td>9857</td>\n",
       "      <td>4</td>\n",
       "      <td>0.009385</td>\n",
       "      <td>0.050736</td>\n",
       "      <td>2464.25</td>\n",
       "    </tr>\n",
       "    <tr>\n",
       "      <th>996</th>\n",
       "      <td>997</td>\n",
       "      <td>2022-08-20</td>\n",
       "      <td>Pants</td>\n",
       "      <td>New York</td>\n",
       "      <td>9121</td>\n",
       "      <td>6</td>\n",
       "      <td>0.190660</td>\n",
       "      <td>0.011654</td>\n",
       "      <td>3192.35</td>\n",
       "    </tr>\n",
       "    <tr>\n",
       "      <th>997</th>\n",
       "      <td>998</td>\n",
       "      <td>2021-03-09</td>\n",
       "      <td>Shoes</td>\n",
       "      <td>Los Anges</td>\n",
       "      <td>9321</td>\n",
       "      <td>99</td>\n",
       "      <td>0.299502</td>\n",
       "      <td>0.080569</td>\n",
       "      <td>5592.60</td>\n",
       "    </tr>\n",
       "    <tr>\n",
       "      <th>998</th>\n",
       "      <td>999</td>\n",
       "      <td>2021-06-13</td>\n",
       "      <td>Compter</td>\n",
       "      <td>Seattle</td>\n",
       "      <td>6379</td>\n",
       "      <td>98</td>\n",
       "      <td>0.180285</td>\n",
       "      <td>0.088348</td>\n",
       "      <td>4784.25</td>\n",
       "    </tr>\n",
       "    <tr>\n",
       "      <th>999</th>\n",
       "      <td>1000</td>\n",
       "      <td>2022-01-01</td>\n",
       "      <td>Compter</td>\n",
       "      <td>Dallas</td>\n",
       "      <td>9386</td>\n",
       "      <td>21</td>\n",
       "      <td>0.068297</td>\n",
       "      <td>0.061598</td>\n",
       "      <td>7039.50</td>\n",
       "    </tr>\n",
       "  </tbody>\n",
       "</table>\n",
       "<p>1000 rows × 9 columns</p>\n",
       "</div>"
      ],
      "text/plain": [
       "     customer_id        date  product geolocation  revenue sales  discount  \\\n",
       "0              1  2020-10-17    Shirt   Los Anges     1290    16  0.070051   \n",
       "1              2  2022-02-09      Bag    Montreal     4453    12  0.396331   \n",
       "2              3  2021-05-28  Compter   Los Anges     3933    87  0.354361   \n",
       "3              4  2020-12-18    Shirt     Seattle     6160    19  0.060434   \n",
       "4              5  2022-09-16    Dress     Seattle     7513    89  0.090327   \n",
       "..           ...         ...      ...         ...      ...   ...       ...   \n",
       "995          996  2022-06-12      Hat   Los Anges     9857     4  0.009385   \n",
       "996          997  2022-08-20    Pants    New York     9121     6  0.190660   \n",
       "997          998  2021-03-09    Shoes   Los Anges     9321    99  0.299502   \n",
       "998          999  2021-06-13  Compter     Seattle     6379    98  0.180285   \n",
       "999         1000  2022-01-01  Compter      Dallas     9386    21  0.068297   \n",
       "\n",
       "          tax  cost_of_goods  \n",
       "0    0.060433         516.00  \n",
       "1    0.087020        1781.20  \n",
       "2    0.002370        2949.75  \n",
       "3    0.068478        2464.00  \n",
       "4    0.013464        3756.50  \n",
       "..        ...            ...  \n",
       "995  0.050736        2464.25  \n",
       "996  0.011654        3192.35  \n",
       "997  0.080569        5592.60  \n",
       "998  0.088348        4784.25  \n",
       "999  0.061598        7039.50  \n",
       "\n",
       "[1000 rows x 9 columns]"
      ]
     },
     "execution_count": 23,
     "metadata": {},
     "output_type": "execute_result"
    }
   ],
   "source": [
    "df"
   ]
  },
  {
   "cell_type": "code",
   "execution_count": 24,
   "id": "d33c7361",
   "metadata": {},
   "outputs": [],
   "source": [
    "df['geolocation'].fillna('Unknown', inplace = True)"
   ]
  },
  {
   "cell_type": "code",
   "execution_count": 25,
   "id": "cb7a4ace",
   "metadata": {},
   "outputs": [
    {
     "data": {
      "text/plain": [
       "geolocation\n",
       "Dallas           107\n",
       "New York         103\n",
       "Vancouver        102\n",
       "Chicago          102\n",
       "Montreal         100\n",
       "Los Anges         98\n",
       "Seattle           98\n",
       "San Franchiso     98\n",
       "Toronto           95\n",
       "Miami             91\n",
       "Unknown            6\n",
       "Name: count, dtype: int64"
      ]
     },
     "execution_count": 25,
     "metadata": {},
     "output_type": "execute_result"
    }
   ],
   "source": [
    "df['geolocation'].value_counts()"
   ]
  },
  {
   "cell_type": "code",
   "execution_count": 26,
   "id": "f9d1c3e6",
   "metadata": {},
   "outputs": [
    {
     "data": {
      "text/plain": [
       "dtype('O')"
      ]
     },
     "execution_count": 26,
     "metadata": {},
     "output_type": "execute_result"
    }
   ],
   "source": [
    "df['sales'].dtype"
   ]
  },
  {
   "cell_type": "code",
   "execution_count": 27,
   "id": "059673f6",
   "metadata": {},
   "outputs": [
    {
     "data": {
      "text/html": [
       "<div>\n",
       "<style scoped>\n",
       "    .dataframe tbody tr th:only-of-type {\n",
       "        vertical-align: middle;\n",
       "    }\n",
       "\n",
       "    .dataframe tbody tr th {\n",
       "        vertical-align: top;\n",
       "    }\n",
       "\n",
       "    .dataframe thead th {\n",
       "        text-align: right;\n",
       "    }\n",
       "</style>\n",
       "<table border=\"1\" class=\"dataframe\">\n",
       "  <thead>\n",
       "    <tr style=\"text-align: right;\">\n",
       "      <th></th>\n",
       "      <th>customer_id</th>\n",
       "      <th>date</th>\n",
       "      <th>product</th>\n",
       "      <th>geolocation</th>\n",
       "      <th>revenue</th>\n",
       "      <th>sales</th>\n",
       "      <th>discount</th>\n",
       "      <th>tax</th>\n",
       "      <th>cost_of_goods</th>\n",
       "    </tr>\n",
       "  </thead>\n",
       "  <tbody>\n",
       "    <tr>\n",
       "      <th>0</th>\n",
       "      <td>1</td>\n",
       "      <td>2020-10-17</td>\n",
       "      <td>Shirt</td>\n",
       "      <td>Los Anges</td>\n",
       "      <td>1290</td>\n",
       "      <td>16</td>\n",
       "      <td>0.070051</td>\n",
       "      <td>0.060433</td>\n",
       "      <td>516.00</td>\n",
       "    </tr>\n",
       "    <tr>\n",
       "      <th>1</th>\n",
       "      <td>2</td>\n",
       "      <td>2022-02-09</td>\n",
       "      <td>Bag</td>\n",
       "      <td>Montreal</td>\n",
       "      <td>4453</td>\n",
       "      <td>12</td>\n",
       "      <td>0.396331</td>\n",
       "      <td>0.087020</td>\n",
       "      <td>1781.20</td>\n",
       "    </tr>\n",
       "    <tr>\n",
       "      <th>2</th>\n",
       "      <td>3</td>\n",
       "      <td>2021-05-28</td>\n",
       "      <td>Compter</td>\n",
       "      <td>Los Anges</td>\n",
       "      <td>3933</td>\n",
       "      <td>87</td>\n",
       "      <td>0.354361</td>\n",
       "      <td>0.002370</td>\n",
       "      <td>2949.75</td>\n",
       "    </tr>\n",
       "    <tr>\n",
       "      <th>3</th>\n",
       "      <td>4</td>\n",
       "      <td>2020-12-18</td>\n",
       "      <td>Shirt</td>\n",
       "      <td>Seattle</td>\n",
       "      <td>6160</td>\n",
       "      <td>19</td>\n",
       "      <td>0.060434</td>\n",
       "      <td>0.068478</td>\n",
       "      <td>2464.00</td>\n",
       "    </tr>\n",
       "    <tr>\n",
       "      <th>4</th>\n",
       "      <td>5</td>\n",
       "      <td>2022-09-16</td>\n",
       "      <td>Dress</td>\n",
       "      <td>Seattle</td>\n",
       "      <td>7513</td>\n",
       "      <td>89</td>\n",
       "      <td>0.090327</td>\n",
       "      <td>0.013464</td>\n",
       "      <td>3756.50</td>\n",
       "    </tr>\n",
       "    <tr>\n",
       "      <th>...</th>\n",
       "      <td>...</td>\n",
       "      <td>...</td>\n",
       "      <td>...</td>\n",
       "      <td>...</td>\n",
       "      <td>...</td>\n",
       "      <td>...</td>\n",
       "      <td>...</td>\n",
       "      <td>...</td>\n",
       "      <td>...</td>\n",
       "    </tr>\n",
       "    <tr>\n",
       "      <th>995</th>\n",
       "      <td>996</td>\n",
       "      <td>2022-06-12</td>\n",
       "      <td>Hat</td>\n",
       "      <td>Los Anges</td>\n",
       "      <td>9857</td>\n",
       "      <td>4</td>\n",
       "      <td>0.009385</td>\n",
       "      <td>0.050736</td>\n",
       "      <td>2464.25</td>\n",
       "    </tr>\n",
       "    <tr>\n",
       "      <th>996</th>\n",
       "      <td>997</td>\n",
       "      <td>2022-08-20</td>\n",
       "      <td>Pants</td>\n",
       "      <td>New York</td>\n",
       "      <td>9121</td>\n",
       "      <td>6</td>\n",
       "      <td>0.190660</td>\n",
       "      <td>0.011654</td>\n",
       "      <td>3192.35</td>\n",
       "    </tr>\n",
       "    <tr>\n",
       "      <th>997</th>\n",
       "      <td>998</td>\n",
       "      <td>2021-03-09</td>\n",
       "      <td>Shoes</td>\n",
       "      <td>Los Anges</td>\n",
       "      <td>9321</td>\n",
       "      <td>99</td>\n",
       "      <td>0.299502</td>\n",
       "      <td>0.080569</td>\n",
       "      <td>5592.60</td>\n",
       "    </tr>\n",
       "    <tr>\n",
       "      <th>998</th>\n",
       "      <td>999</td>\n",
       "      <td>2021-06-13</td>\n",
       "      <td>Compter</td>\n",
       "      <td>Seattle</td>\n",
       "      <td>6379</td>\n",
       "      <td>98</td>\n",
       "      <td>0.180285</td>\n",
       "      <td>0.088348</td>\n",
       "      <td>4784.25</td>\n",
       "    </tr>\n",
       "    <tr>\n",
       "      <th>999</th>\n",
       "      <td>1000</td>\n",
       "      <td>2022-01-01</td>\n",
       "      <td>Compter</td>\n",
       "      <td>Dallas</td>\n",
       "      <td>9386</td>\n",
       "      <td>21</td>\n",
       "      <td>0.068297</td>\n",
       "      <td>0.061598</td>\n",
       "      <td>7039.50</td>\n",
       "    </tr>\n",
       "  </tbody>\n",
       "</table>\n",
       "<p>1000 rows × 9 columns</p>\n",
       "</div>"
      ],
      "text/plain": [
       "     customer_id        date  product geolocation  revenue sales  discount  \\\n",
       "0              1  2020-10-17    Shirt   Los Anges     1290    16  0.070051   \n",
       "1              2  2022-02-09      Bag    Montreal     4453    12  0.396331   \n",
       "2              3  2021-05-28  Compter   Los Anges     3933    87  0.354361   \n",
       "3              4  2020-12-18    Shirt     Seattle     6160    19  0.060434   \n",
       "4              5  2022-09-16    Dress     Seattle     7513    89  0.090327   \n",
       "..           ...         ...      ...         ...      ...   ...       ...   \n",
       "995          996  2022-06-12      Hat   Los Anges     9857     4  0.009385   \n",
       "996          997  2022-08-20    Pants    New York     9121     6  0.190660   \n",
       "997          998  2021-03-09    Shoes   Los Anges     9321    99  0.299502   \n",
       "998          999  2021-06-13  Compter     Seattle     6379    98  0.180285   \n",
       "999         1000  2022-01-01  Compter      Dallas     9386    21  0.068297   \n",
       "\n",
       "          tax  cost_of_goods  \n",
       "0    0.060433         516.00  \n",
       "1    0.087020        1781.20  \n",
       "2    0.002370        2949.75  \n",
       "3    0.068478        2464.00  \n",
       "4    0.013464        3756.50  \n",
       "..        ...            ...  \n",
       "995  0.050736        2464.25  \n",
       "996  0.011654        3192.35  \n",
       "997  0.080569        5592.60  \n",
       "998  0.088348        4784.25  \n",
       "999  0.061598        7039.50  \n",
       "\n",
       "[1000 rows x 9 columns]"
      ]
     },
     "execution_count": 27,
     "metadata": {},
     "output_type": "execute_result"
    }
   ],
   "source": [
    "df"
   ]
  },
  {
   "cell_type": "code",
   "execution_count": 28,
   "id": "7be94a01",
   "metadata": {},
   "outputs": [
    {
     "data": {
      "text/plain": [
       "4"
      ]
     },
     "execution_count": 28,
     "metadata": {},
     "output_type": "execute_result"
    }
   ],
   "source": [
    "df['sales'].str.contains('\\D').sum()"
   ]
  },
  {
   "cell_type": "code",
   "execution_count": 30,
   "id": "f27a144e",
   "metadata": {},
   "outputs": [],
   "source": [
    "df['sales'] = pd.to_numeric(df['sales'], errors = 'coerce')"
   ]
  },
  {
   "cell_type": "code",
   "execution_count": 31,
   "id": "530abbac",
   "metadata": {},
   "outputs": [
    {
     "data": {
      "text/plain": [
       "54"
      ]
     },
     "execution_count": 31,
     "metadata": {},
     "output_type": "execute_result"
    }
   ],
   "source": [
    "df['sales'].isnull().sum()"
   ]
  },
  {
   "cell_type": "code",
   "execution_count": 32,
   "id": "1deeea12",
   "metadata": {},
   "outputs": [
    {
     "data": {
      "text/plain": [
       "dtype('float64')"
      ]
     },
     "execution_count": 32,
     "metadata": {},
     "output_type": "execute_result"
    }
   ],
   "source": [
    "df['sales'].dtype"
   ]
  },
  {
   "cell_type": "code",
   "execution_count": 33,
   "id": "1ec909ec",
   "metadata": {},
   "outputs": [
    {
     "data": {
      "text/plain": [
       "<Axes: >"
      ]
     },
     "execution_count": 33,
     "metadata": {},
     "output_type": "execute_result"
    },
    {
     "data": {
      "image/png": "[encoded data removed]",
      "text/plain": [
       "<Figure size 640x480 with 1 Axes>"
      ]
     },
     "metadata": {},
     "output_type": "display_data"
    }
   ],
   "source": [
    "df['sales'].plot(kind = 'box')"
   ]
  },
  {
   "cell_type": "code",
   "execution_count": 34,
   "id": "d5cd36bf",
   "metadata": {},
   "outputs": [
    {
     "data": {
      "text/plain": [
       "50.2"
      ]
     },
     "execution_count": 34,
     "metadata": {},
     "output_type": "execute_result"
    }
   ],
   "source": [
    "round(df['sales'].mean(), 1)"
   ]
  },
  {
   "cell_type": "code",
   "execution_count": 35,
   "id": "793efd96",
   "metadata": {},
   "outputs": [
    {
     "data": {
      "text/plain": [
       "50.5"
      ]
     },
     "execution_count": 35,
     "metadata": {},
     "output_type": "execute_result"
    }
   ],
   "source": [
    "df['sales'].median()"
   ]
  },
  {
   "cell_type": "code",
   "execution_count": 36,
   "id": "e0a53cf5",
   "metadata": {},
   "outputs": [],
   "source": [
    "df['sales'].fillna(df['sales'].median(), inplace = True)"
   ]
  },
  {
   "cell_type": "code",
   "execution_count": 37,
   "id": "72cbc2b9",
   "metadata": {},
   "outputs": [],
   "source": [
    "df['sales'] = df['sales'].astype('int64')"
   ]
  },
  {
   "cell_type": "code",
   "execution_count": 38,
   "id": "58d1fcf6",
   "metadata": {},
   "outputs": [
    {
     "data": {
      "text/plain": [
       "customer_id      0\n",
       "date             0\n",
       "product          0\n",
       "geolocation      0\n",
       "revenue          0\n",
       "sales            0\n",
       "discount         0\n",
       "tax              0\n",
       "cost_of_goods    0\n",
       "dtype: int64"
      ]
     },
     "execution_count": 38,
     "metadata": {},
     "output_type": "execute_result"
    }
   ],
   "source": [
    "df.isnull().sum()"
   ]
  },
  {
   "cell_type": "code",
   "execution_count": 39,
   "id": "87b7e3c7",
   "metadata": {},
   "outputs": [
    {
     "data": {
      "text/plain": [
       "customer_id        int64\n",
       "date              object\n",
       "product           object\n",
       "geolocation       object\n",
       "revenue            int64\n",
       "sales              int64\n",
       "discount         float64\n",
       "tax              float64\n",
       "cost_of_goods    float64\n",
       "dtype: object"
      ]
     },
     "execution_count": 39,
     "metadata": {},
     "output_type": "execute_result"
    }
   ],
   "source": [
    "df.dtypes"
   ]
  },
  {
   "cell_type": "code",
   "execution_count": 40,
   "id": "68040a87",
   "metadata": {},
   "outputs": [],
   "source": [
    "df['date'] = df['date'].astype('datetime64[ns]')"
   ]
  },
  {
   "cell_type": "code",
   "execution_count": 41,
   "id": "ad3f85ec",
   "metadata": {},
   "outputs": [],
   "source": [
    "df['product'].replace('Compter', 'Computer', inplace = True)"
   ]
  },
  {
   "cell_type": "code",
   "execution_count": 42,
   "id": "f95b289f",
   "metadata": {},
   "outputs": [],
   "source": [
    "df['product'].replace({'Compter': 'Computer'}, inplace = True)"
   ]
  },
  {
   "cell_type": "code",
   "execution_count": 43,
   "id": "11f336df",
   "metadata": {},
   "outputs": [
    {
     "data": {
      "text/plain": [
       "product\n",
       "Pants       124\n",
       "Shirt       108\n",
       "Phone       101\n",
       "T-shirt     100\n",
       "Computer     94\n",
       "Dress        93\n",
       "Laptop       93\n",
       "Shoes        93\n",
       "Bag          88\n",
       "Hat          86\n",
       "unknown      20\n",
       "Name: count, dtype: int64"
      ]
     },
     "execution_count": 43,
     "metadata": {},
     "output_type": "execute_result"
    }
   ],
   "source": [
    "df['product'].value_counts()"
   ]
  },
  {
   "cell_type": "code",
   "execution_count": 44,
   "id": "0b50b081",
   "metadata": {},
   "outputs": [],
   "source": [
    "df['geolocation'].replace({'San Franchiso': 'San Francisco', 'Los Anges': 'Los Angeles'}, inplace = True)"
   ]
  },
  {
   "cell_type": "code",
   "execution_count": 45,
   "id": "761942d7",
   "metadata": {},
   "outputs": [
    {
     "data": {
      "text/plain": [
       "geolocation\n",
       "Dallas           107\n",
       "New York         103\n",
       "Vancouver        102\n",
       "Chicago          102\n",
       "Montreal         100\n",
       "Los Angeles       98\n",
       "Seattle           98\n",
       "San Francisco     98\n",
       "Toronto           95\n",
       "Miami             91\n",
       "Unknown            6\n",
       "Name: count, dtype: int64"
      ]
     },
     "execution_count": 45,
     "metadata": {},
     "output_type": "execute_result"
    }
   ],
   "source": [
    "df['geolocation'].value_counts()"
   ]
  },
  {
   "cell_type": "markdown",
   "id": "b54df99f",
   "metadata": {},
   "source": [
    "### Feature Engineering "
   ]
  },
  {
   "cell_type": "code",
   "execution_count": 46,
   "id": "33129b31",
   "metadata": {},
   "outputs": [
    {
     "data": {
      "text/html": [
       "<div>\n",
       "<style scoped>\n",
       "    .dataframe tbody tr th:only-of-type {\n",
       "        vertical-align: middle;\n",
       "    }\n",
       "\n",
       "    .dataframe tbody tr th {\n",
       "        vertical-align: top;\n",
       "    }\n",
       "\n",
       "    .dataframe thead th {\n",
       "        text-align: right;\n",
       "    }\n",
       "</style>\n",
       "<table border=\"1\" class=\"dataframe\">\n",
       "  <thead>\n",
       "    <tr style=\"text-align: right;\">\n",
       "      <th></th>\n",
       "      <th>customer_id</th>\n",
       "      <th>date</th>\n",
       "      <th>product</th>\n",
       "      <th>geolocation</th>\n",
       "      <th>revenue</th>\n",
       "      <th>sales</th>\n",
       "      <th>discount</th>\n",
       "      <th>tax</th>\n",
       "      <th>cost_of_goods</th>\n",
       "    </tr>\n",
       "  </thead>\n",
       "  <tbody>\n",
       "    <tr>\n",
       "      <th>0</th>\n",
       "      <td>1</td>\n",
       "      <td>2020-10-17</td>\n",
       "      <td>Shirt</td>\n",
       "      <td>Los Angeles</td>\n",
       "      <td>1290</td>\n",
       "      <td>16</td>\n",
       "      <td>0.070051</td>\n",
       "      <td>0.060433</td>\n",
       "      <td>516.00</td>\n",
       "    </tr>\n",
       "    <tr>\n",
       "      <th>1</th>\n",
       "      <td>2</td>\n",
       "      <td>2022-02-09</td>\n",
       "      <td>Bag</td>\n",
       "      <td>Montreal</td>\n",
       "      <td>4453</td>\n",
       "      <td>12</td>\n",
       "      <td>0.396331</td>\n",
       "      <td>0.087020</td>\n",
       "      <td>1781.20</td>\n",
       "    </tr>\n",
       "    <tr>\n",
       "      <th>2</th>\n",
       "      <td>3</td>\n",
       "      <td>2021-05-28</td>\n",
       "      <td>Computer</td>\n",
       "      <td>Los Angeles</td>\n",
       "      <td>3933</td>\n",
       "      <td>87</td>\n",
       "      <td>0.354361</td>\n",
       "      <td>0.002370</td>\n",
       "      <td>2949.75</td>\n",
       "    </tr>\n",
       "    <tr>\n",
       "      <th>3</th>\n",
       "      <td>4</td>\n",
       "      <td>2020-12-18</td>\n",
       "      <td>Shirt</td>\n",
       "      <td>Seattle</td>\n",
       "      <td>6160</td>\n",
       "      <td>19</td>\n",
       "      <td>0.060434</td>\n",
       "      <td>0.068478</td>\n",
       "      <td>2464.00</td>\n",
       "    </tr>\n",
       "    <tr>\n",
       "      <th>4</th>\n",
       "      <td>5</td>\n",
       "      <td>2022-09-16</td>\n",
       "      <td>Dress</td>\n",
       "      <td>Seattle</td>\n",
       "      <td>7513</td>\n",
       "      <td>89</td>\n",
       "      <td>0.090327</td>\n",
       "      <td>0.013464</td>\n",
       "      <td>3756.50</td>\n",
       "    </tr>\n",
       "    <tr>\n",
       "      <th>...</th>\n",
       "      <td>...</td>\n",
       "      <td>...</td>\n",
       "      <td>...</td>\n",
       "      <td>...</td>\n",
       "      <td>...</td>\n",
       "      <td>...</td>\n",
       "      <td>...</td>\n",
       "      <td>...</td>\n",
       "      <td>...</td>\n",
       "    </tr>\n",
       "    <tr>\n",
       "      <th>995</th>\n",
       "      <td>996</td>\n",
       "      <td>2022-06-12</td>\n",
       "      <td>Hat</td>\n",
       "      <td>Los Angeles</td>\n",
       "      <td>9857</td>\n",
       "      <td>4</td>\n",
       "      <td>0.009385</td>\n",
       "      <td>0.050736</td>\n",
       "      <td>2464.25</td>\n",
       "    </tr>\n",
       "    <tr>\n",
       "      <th>996</th>\n",
       "      <td>997</td>\n",
       "      <td>2022-08-20</td>\n",
       "      <td>Pants</td>\n",
       "      <td>New York</td>\n",
       "      <td>9121</td>\n",
       "      <td>6</td>\n",
       "      <td>0.190660</td>\n",
       "      <td>0.011654</td>\n",
       "      <td>3192.35</td>\n",
       "    </tr>\n",
       "    <tr>\n",
       "      <th>997</th>\n",
       "      <td>998</td>\n",
       "      <td>2021-03-09</td>\n",
       "      <td>Shoes</td>\n",
       "      <td>Los Angeles</td>\n",
       "      <td>9321</td>\n",
       "      <td>99</td>\n",
       "      <td>0.299502</td>\n",
       "      <td>0.080569</td>\n",
       "      <td>5592.60</td>\n",
       "    </tr>\n",
       "    <tr>\n",
       "      <th>998</th>\n",
       "      <td>999</td>\n",
       "      <td>2021-06-13</td>\n",
       "      <td>Computer</td>\n",
       "      <td>Seattle</td>\n",
       "      <td>6379</td>\n",
       "      <td>98</td>\n",
       "      <td>0.180285</td>\n",
       "      <td>0.088348</td>\n",
       "      <td>4784.25</td>\n",
       "    </tr>\n",
       "    <tr>\n",
       "      <th>999</th>\n",
       "      <td>1000</td>\n",
       "      <td>2022-01-01</td>\n",
       "      <td>Computer</td>\n",
       "      <td>Dallas</td>\n",
       "      <td>9386</td>\n",
       "      <td>21</td>\n",
       "      <td>0.068297</td>\n",
       "      <td>0.061598</td>\n",
       "      <td>7039.50</td>\n",
       "    </tr>\n",
       "  </tbody>\n",
       "</table>\n",
       "<p>1000 rows × 9 columns</p>\n",
       "</div>"
      ],
      "text/plain": [
       "     customer_id       date   product  geolocation  revenue  sales  discount  \\\n",
       "0              1 2020-10-17     Shirt  Los Angeles     1290     16  0.070051   \n",
       "1              2 2022-02-09       Bag     Montreal     4453     12  0.396331   \n",
       "2              3 2021-05-28  Computer  Los Angeles     3933     87  0.354361   \n",
       "3              4 2020-12-18     Shirt      Seattle     6160     19  0.060434   \n",
       "4              5 2022-09-16     Dress      Seattle     7513     89  0.090327   \n",
       "..           ...        ...       ...          ...      ...    ...       ...   \n",
       "995          996 2022-06-12       Hat  Los Angeles     9857      4  0.009385   \n",
       "996          997 2022-08-20     Pants     New York     9121      6  0.190660   \n",
       "997          998 2021-03-09     Shoes  Los Angeles     9321     99  0.299502   \n",
       "998          999 2021-06-13  Computer      Seattle     6379     98  0.180285   \n",
       "999         1000 2022-01-01  Computer       Dallas     9386     21  0.068297   \n",
       "\n",
       "          tax  cost_of_goods  \n",
       "0    0.060433         516.00  \n",
       "1    0.087020        1781.20  \n",
       "2    0.002370        2949.75  \n",
       "3    0.068478        2464.00  \n",
       "4    0.013464        3756.50  \n",
       "..        ...            ...  \n",
       "995  0.050736        2464.25  \n",
       "996  0.011654        3192.35  \n",
       "997  0.080569        5592.60  \n",
       "998  0.088348        4784.25  \n",
       "999  0.061598        7039.50  \n",
       "\n",
       "[1000 rows x 9 columns]"
      ]
     },
     "execution_count": 46,
     "metadata": {},
     "output_type": "execute_result"
    }
   ],
   "source": [
    "df"
   ]
  },
  {
   "cell_type": "code",
   "execution_count": 47,
   "id": "2f1e1d41",
   "metadata": {},
   "outputs": [],
   "source": [
    "df['profit'] = df['revenue'] - (df['revenue']*df['discount']) - (df['revenue']*df['tax'])- df['cost_of_goods']"
   ]
  },
  {
   "cell_type": "code",
   "execution_count": 48,
   "id": "ec8d4b9b",
   "metadata": {},
   "outputs": [
    {
     "data": {
      "text/html": [
       "<div>\n",
       "<style scoped>\n",
       "    .dataframe tbody tr th:only-of-type {\n",
       "        vertical-align: middle;\n",
       "    }\n",
       "\n",
       "    .dataframe tbody tr th {\n",
       "        vertical-align: top;\n",
       "    }\n",
       "\n",
       "    .dataframe thead th {\n",
       "        text-align: right;\n",
       "    }\n",
       "</style>\n",
       "<table border=\"1\" class=\"dataframe\">\n",
       "  <thead>\n",
       "    <tr style=\"text-align: right;\">\n",
       "      <th></th>\n",
       "      <th>customer_id</th>\n",
       "      <th>date</th>\n",
       "      <th>product</th>\n",
       "      <th>geolocation</th>\n",
       "      <th>revenue</th>\n",
       "      <th>sales</th>\n",
       "      <th>discount</th>\n",
       "      <th>tax</th>\n",
       "      <th>cost_of_goods</th>\n",
       "      <th>profit</th>\n",
       "    </tr>\n",
       "  </thead>\n",
       "  <tbody>\n",
       "    <tr>\n",
       "      <th>0</th>\n",
       "      <td>1</td>\n",
       "      <td>2020-10-17</td>\n",
       "      <td>Shirt</td>\n",
       "      <td>Los Angeles</td>\n",
       "      <td>1290</td>\n",
       "      <td>16</td>\n",
       "      <td>0.070051</td>\n",
       "      <td>0.060433</td>\n",
       "      <td>516.00</td>\n",
       "      <td>605.675238</td>\n",
       "    </tr>\n",
       "    <tr>\n",
       "      <th>1</th>\n",
       "      <td>2</td>\n",
       "      <td>2022-02-09</td>\n",
       "      <td>Bag</td>\n",
       "      <td>Montreal</td>\n",
       "      <td>4453</td>\n",
       "      <td>12</td>\n",
       "      <td>0.396331</td>\n",
       "      <td>0.087020</td>\n",
       "      <td>1781.20</td>\n",
       "      <td>519.440089</td>\n",
       "    </tr>\n",
       "    <tr>\n",
       "      <th>2</th>\n",
       "      <td>3</td>\n",
       "      <td>2021-05-28</td>\n",
       "      <td>Computer</td>\n",
       "      <td>Los Angeles</td>\n",
       "      <td>3933</td>\n",
       "      <td>87</td>\n",
       "      <td>0.354361</td>\n",
       "      <td>0.002370</td>\n",
       "      <td>2949.75</td>\n",
       "      <td>-419.773542</td>\n",
       "    </tr>\n",
       "    <tr>\n",
       "      <th>3</th>\n",
       "      <td>4</td>\n",
       "      <td>2020-12-18</td>\n",
       "      <td>Shirt</td>\n",
       "      <td>Seattle</td>\n",
       "      <td>6160</td>\n",
       "      <td>19</td>\n",
       "      <td>0.060434</td>\n",
       "      <td>0.068478</td>\n",
       "      <td>2464.00</td>\n",
       "      <td>2901.904535</td>\n",
       "    </tr>\n",
       "    <tr>\n",
       "      <th>4</th>\n",
       "      <td>5</td>\n",
       "      <td>2022-09-16</td>\n",
       "      <td>Dress</td>\n",
       "      <td>Seattle</td>\n",
       "      <td>7513</td>\n",
       "      <td>89</td>\n",
       "      <td>0.090327</td>\n",
       "      <td>0.013464</td>\n",
       "      <td>3756.50</td>\n",
       "      <td>2976.717163</td>\n",
       "    </tr>\n",
       "    <tr>\n",
       "      <th>...</th>\n",
       "      <td>...</td>\n",
       "      <td>...</td>\n",
       "      <td>...</td>\n",
       "      <td>...</td>\n",
       "      <td>...</td>\n",
       "      <td>...</td>\n",
       "      <td>...</td>\n",
       "      <td>...</td>\n",
       "      <td>...</td>\n",
       "      <td>...</td>\n",
       "    </tr>\n",
       "    <tr>\n",
       "      <th>995</th>\n",
       "      <td>996</td>\n",
       "      <td>2022-06-12</td>\n",
       "      <td>Hat</td>\n",
       "      <td>Los Angeles</td>\n",
       "      <td>9857</td>\n",
       "      <td>4</td>\n",
       "      <td>0.009385</td>\n",
       "      <td>0.050736</td>\n",
       "      <td>2464.25</td>\n",
       "      <td>6800.140677</td>\n",
       "    </tr>\n",
       "    <tr>\n",
       "      <th>996</th>\n",
       "      <td>997</td>\n",
       "      <td>2022-08-20</td>\n",
       "      <td>Pants</td>\n",
       "      <td>New York</td>\n",
       "      <td>9121</td>\n",
       "      <td>6</td>\n",
       "      <td>0.190660</td>\n",
       "      <td>0.011654</td>\n",
       "      <td>3192.35</td>\n",
       "      <td>4083.349450</td>\n",
       "    </tr>\n",
       "    <tr>\n",
       "      <th>997</th>\n",
       "      <td>998</td>\n",
       "      <td>2021-03-09</td>\n",
       "      <td>Shoes</td>\n",
       "      <td>Los Angeles</td>\n",
       "      <td>9321</td>\n",
       "      <td>99</td>\n",
       "      <td>0.299502</td>\n",
       "      <td>0.080569</td>\n",
       "      <td>5592.60</td>\n",
       "      <td>185.762226</td>\n",
       "    </tr>\n",
       "    <tr>\n",
       "      <th>998</th>\n",
       "      <td>999</td>\n",
       "      <td>2021-06-13</td>\n",
       "      <td>Computer</td>\n",
       "      <td>Seattle</td>\n",
       "      <td>6379</td>\n",
       "      <td>98</td>\n",
       "      <td>0.180285</td>\n",
       "      <td>0.088348</td>\n",
       "      <td>4784.25</td>\n",
       "      <td>-118.863271</td>\n",
       "    </tr>\n",
       "    <tr>\n",
       "      <th>999</th>\n",
       "      <td>1000</td>\n",
       "      <td>2022-01-01</td>\n",
       "      <td>Computer</td>\n",
       "      <td>Dallas</td>\n",
       "      <td>9386</td>\n",
       "      <td>21</td>\n",
       "      <td>0.068297</td>\n",
       "      <td>0.061598</td>\n",
       "      <td>7039.50</td>\n",
       "      <td>1127.305021</td>\n",
       "    </tr>\n",
       "  </tbody>\n",
       "</table>\n",
       "<p>1000 rows × 10 columns</p>\n",
       "</div>"
      ],
      "text/plain": [
       "     customer_id       date   product  geolocation  revenue  sales  discount  \\\n",
       "0              1 2020-10-17     Shirt  Los Angeles     1290     16  0.070051   \n",
       "1              2 2022-02-09       Bag     Montreal     4453     12  0.396331   \n",
       "2              3 2021-05-28  Computer  Los Angeles     3933     87  0.354361   \n",
       "3              4 2020-12-18     Shirt      Seattle     6160     19  0.060434   \n",
       "4              5 2022-09-16     Dress      Seattle     7513     89  0.090327   \n",
       "..           ...        ...       ...          ...      ...    ...       ...   \n",
       "995          996 2022-06-12       Hat  Los Angeles     9857      4  0.009385   \n",
       "996          997 2022-08-20     Pants     New York     9121      6  0.190660   \n",
       "997          998 2021-03-09     Shoes  Los Angeles     9321     99  0.299502   \n",
       "998          999 2021-06-13  Computer      Seattle     6379     98  0.180285   \n",
       "999         1000 2022-01-01  Computer       Dallas     9386     21  0.068297   \n",
       "\n",
       "          tax  cost_of_goods       profit  \n",
       "0    0.060433         516.00   605.675238  \n",
       "1    0.087020        1781.20   519.440089  \n",
       "2    0.002370        2949.75  -419.773542  \n",
       "3    0.068478        2464.00  2901.904535  \n",
       "4    0.013464        3756.50  2976.717163  \n",
       "..        ...            ...          ...  \n",
       "995  0.050736        2464.25  6800.140677  \n",
       "996  0.011654        3192.35  4083.349450  \n",
       "997  0.080569        5592.60   185.762226  \n",
       "998  0.088348        4784.25  -118.863271  \n",
       "999  0.061598        7039.50  1127.305021  \n",
       "\n",
       "[1000 rows x 10 columns]"
      ]
     },
     "execution_count": 48,
     "metadata": {},
     "output_type": "execute_result"
    }
   ],
   "source": [
    "df"
   ]
  },
  {
   "cell_type": "code",
   "execution_count": 49,
   "id": "895ce1bd",
   "metadata": {},
   "outputs": [],
   "source": [
    "import matplotlib.pyplot as plt "
   ]
  },
  {
   "cell_type": "code",
   "execution_count": 51,
   "id": "4736b889",
   "metadata": {},
   "outputs": [
    {
     "data": {
      "image/png": "[encoded data removed]",
      "text/plain": [
       "<Figure size 640x480 with 1 Axes>"
      ]
     },
     "metadata": {},
     "output_type": "display_data"
    }
   ],
   "source": [
    "plt.boxplot(df['revenue'])\n",
    "plt.xticks([])\n",
    "plt.xlabel('Revenue')\n",
    "plt.ylabel('Revenue Distribution')\n",
    "plt.title('Distribution of the Revenue Variable', loc = 'left', pad = 10, fontdict = {'fontsize':10, 'color':'b'})\n",
    "plt.show()"
   ]
  },
  {
   "cell_type": "code",
   "execution_count": 53,
   "id": "43eeaa48",
   "metadata": {},
   "outputs": [
    {
     "data": {
      "image/png": "[encoded data removed]",
      "text/plain": [
       "<Figure size 640x480 with 1 Axes>"
      ]
     },
     "metadata": {},
     "output_type": "display_data"
    }
   ],
   "source": [
    "plt.hist(df['revenue'], bins = 30)\n",
    "plt.title('Revenue Distribution')\n",
    "plt.show()"
   ]
  },
  {
   "cell_type": "code",
   "execution_count": 54,
   "id": "d96046e2",
   "metadata": {},
   "outputs": [
    {
     "data": {
      "image/png": "[encoded data removed]",
      "text/plain": [
       "<Figure size 640x480 with 1 Axes>"
      ]
     },
     "metadata": {},
     "output_type": "display_data"
    }
   ],
   "source": [
    "plt.boxplot(df['cost_of_goods'])\n",
    "plt.show()"
   ]
  },
  {
   "cell_type": "code",
   "execution_count": 55,
   "id": "a8968eb1",
   "metadata": {},
   "outputs": [
    {
     "data": {
      "image/png": "[encoded data removed]",
      "text/plain": [
       "<Figure size 640x480 with 1 Axes>"
      ]
     },
     "metadata": {},
     "output_type": "display_data"
    }
   ],
   "source": [
    "plt.hist(df['cost_of_goods'], bins = 30)\n",
    "plt.title('Distribution of Cost of Goods')\n",
    "plt.show()"
   ]
  },
  {
   "cell_type": "code",
   "execution_count": 56,
   "id": "c0ca7aab",
   "metadata": {},
   "outputs": [
    {
     "data": {
      "text/plain": [
       "product\n",
       "Pants       224605.749209\n",
       "T-shirt     221723.304218\n",
       "Hat         184893.330325\n",
       "Shirt       139251.583715\n",
       "Bag         124891.475896\n",
       "Dress        84184.819766\n",
       "Shoes        55979.088958\n",
       "Laptop       10725.450755\n",
       "Computer     -5744.629107\n",
       "Phone       -46738.428219\n",
       "Name: profit, dtype: float64"
      ]
     },
     "execution_count": 56,
     "metadata": {},
     "output_type": "execute_result"
    }
   ],
   "source": [
    "profit_by_product = df.groupby('product')['profit'].sum()[:10].sort_values(ascending = False)\n",
    "profit_by_product"
   ]
  },
  {
   "cell_type": "code",
   "execution_count": 61,
   "id": "7e206cf3",
   "metadata": {},
   "outputs": [
    {
     "data": {
      "image/png": "[encoded data removed]",
      "text/plain": [
       "<Figure size 900x600 with 1 Axes>"
      ]
     },
     "metadata": {},
     "output_type": "display_data"
    }
   ],
   "source": [
    "plt.figure(figsize = (9, 6))\n",
    "plt.bar(profit_by_product.index, profit_by_product.values, width = 0.6)\n",
    "plt.xticks(rotation = 45)\n",
    "plt.title('Profit by Product', loc = 'left', pad = 10)\n",
    "plt.bar_label(plt.bar(profit_by_product.index, profit_by_product.values, width = 0.6))\n",
    "plt.show()"
   ]
  },
  {
   "cell_type": "code",
   "execution_count": 62,
   "id": "a4c98c84",
   "metadata": {},
   "outputs": [
    {
     "data": {
      "text/plain": [
       "geolocation\n",
       "San Francisco     76833.557207\n",
       "Dallas            84089.231651\n",
       "Montreal          86297.190805\n",
       "Miami             89281.689694\n",
       "Seattle           92042.264646\n",
       "Chicago           96478.007158\n",
       "New York         104007.699087\n",
       "Vancouver        107554.461169\n",
       "Toronto          123031.043210\n",
       "Los Angeles      140798.554292\n",
       "Name: profit, dtype: float64"
      ]
     },
     "execution_count": 62,
     "metadata": {},
     "output_type": "execute_result"
    }
   ],
   "source": [
    "profit_by_location"
   ]
  },
  {
   "cell_type": "code",
   "execution_count": 63,
   "id": "11661198",
   "metadata": {},
   "outputs": [
    {
     "data": {
      "image/png": "[encoded data removed]",
      "text/plain": [
       "<Figure size 1000x600 with 1 Axes>"
      ]
     },
     "metadata": {},
     "output_type": "display_data"
    }
   ],
   "source": [
    "profit_by_location = df.groupby('geolocation')['profit'].sum().sort_values(ascending = True)[1:12]\n",
    "plt.figure(figsize = [10,6])\n",
    "plt.bar_label(plt.barh(profit_by_location.index, profit_by_location.values, height = 0.6, color = 'red'))\n",
    "plt.xticks([])\n",
    "plt.title('Profit by Location', loc = 'left', pad = 5)\n",
    "spines = ['left', 'right', 'bottom', 'top']\n",
    "for spine in spines:\n",
    "    plt.gca().spines[spine].set_visible(False)\n",
    "plt.show()"
   ]
  },
  {
   "cell_type": "code",
   "execution_count": 65,
   "id": "f83cb8e1",
   "metadata": {},
   "outputs": [
    {
     "data": {
      "text/plain": [
       "<matplotlib.collections.PathCollection at 0x18a004f36d0>"
      ]
     },
     "execution_count": 65,
     "metadata": {},
     "output_type": "execute_result"
    },
    {
     "data": {
      "image/png": "[encoded data removed]",
      "text/plain": [
       "<Figure size 640x480 with 1 Axes>"
      ]
     },
     "metadata": {},
     "output_type": "display_data"
    }
   ],
   "source": [
    "plt.scatter(df['profit'], df['revenue'])"
   ]
  },
  {
   "cell_type": "code",
   "execution_count": 67,
   "id": "0814df4e",
   "metadata": {},
   "outputs": [
    {
     "data": {
      "text/plain": [
       "0.3955450109388978"
      ]
     },
     "execution_count": 67,
     "metadata": {},
     "output_type": "execute_result"
    }
   ],
   "source": [
    "df['revenue'].corr(df['profit'])"
   ]
  },
  {
   "cell_type": "code",
   "execution_count": 68,
   "id": "dd2e8486",
   "metadata": {},
   "outputs": [],
   "source": [
    "df['year'] = df['date'].dt.year"
   ]
  },
  {
   "cell_type": "code",
   "execution_count": 69,
   "id": "cadcc7af",
   "metadata": {},
   "outputs": [],
   "source": [
    "sales_by_year = df.groupby('year')['sales'].sum()"
   ]
  },
  {
   "cell_type": "code",
   "execution_count": 70,
   "id": "7c0cc008",
   "metadata": {},
   "outputs": [
    {
     "data": {
      "text/plain": [
       "year\n",
       "2020    16457\n",
       "2021    16434\n",
       "2022    17338\n",
       "Name: sales, dtype: int64"
      ]
     },
     "execution_count": 70,
     "metadata": {},
     "output_type": "execute_result"
    }
   ],
   "source": [
    "sales_by_year"
   ]
  },
  {
   "cell_type": "code",
   "execution_count": 72,
   "id": "0cc510ed",
   "metadata": {},
   "outputs": [
    {
     "data": {
      "text/plain": [
       "array([2020, 2021, 2022])"
      ]
     },
     "execution_count": 72,
     "metadata": {},
     "output_type": "execute_result"
    }
   ],
   "source": [
    "np.arange(2020, 2023)"
   ]
  },
  {
   "cell_type": "code",
   "execution_count": null,
   "id": "90523ff0",
   "metadata": {},
   "outputs": [],
   "source": []
  },
  {
   "cell_type": "code",
   "execution_count": 73,
   "id": "b79992e9",
   "metadata": {},
   "outputs": [
    {
     "data": {
      "image/png": "[encoded data removed]",
      "text/plain": [
       "<Figure size 640x480 with 1 Axes>"
      ]
     },
     "metadata": {},
     "output_type": "display_data"
    }
   ],
   "source": [
    "plt.plot(sales_by_year.index, sales_by_year.values, marker = 'd', linestyle = 'dashdot')\n",
    "plt.xticks(np.arange(2020, 2023))\n",
    "plt.title('Sales by Year')\n",
    "plt.show()"
   ]
  },
  {
   "cell_type": "code",
   "execution_count": null,
   "id": "46e8083a",
   "metadata": {},
   "outputs": [],
   "source": []
  }
 ],
 "metadata": {
  "kernelspec": {
   "display_name": "Python 3 (ipykernel)",
   "language": "python",
   "name": "python3"
  },
  "language_info": {
   "codemirror_mode": {
    "name": "ipython",
    "version": 3
   },
   "file_extension": ".py",
   "mimetype": "text/x-python",
   "name": "python",
   "nbconvert_exporter": "python",
   "pygments_lexer": "ipython3",
   "version": "3.11.5"
  }
 },
 "nbformat": 4,
 "nbformat_minor": 5
}
